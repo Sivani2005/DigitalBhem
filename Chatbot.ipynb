{
  "nbformat": 4,
  "nbformat_minor": 0,
  "metadata": {
    "colab": {
      "provenance": [],
      "authorship_tag": "ABX9TyMgcdAMoy9ebGTbg/sO8nki",
      "include_colab_link": true
    },
    "kernelspec": {
      "name": "python3",
      "display_name": "Python 3"
    },
    "language_info": {
      "name": "python"
    }
  },
  "cells": [
    {
      "cell_type": "markdown",
      "metadata": {
        "id": "view-in-github",
        "colab_type": "text"
      },
      "source": [
        "<a href=\"https://colab.research.google.com/github/Sivani2005/DigitalBhem/blob/main/Chatbot.ipynb\" target=\"_parent\"><img src=\"https://colab.research.google.com/assets/colab-badge.svg\" alt=\"Open In Colab\"/></a>"
      ]
    },
    {
      "cell_type": "markdown",
      "source": [
        "!pip install spacy\n",
        "!python -m spacy download en_core_web_sm\n"
      ],
      "metadata": {
        "id": "6vDUcQyiGg0m"
      }
    },
    {
      "cell_type": "code",
      "source": [
        "import spacy\n",
        "from sklearn.feature_extraction.text import TfidfVectorizer\n",
        "from sklearn.metrics.pairwise import cosine_similarity\n",
        "\n",
        "nlp = spacy.load('en_core_web_sm')\n",
        "\n",
        "faq_data = {\n",
        "\n",
        "            \"What is parapsychology?\": \"Parapsychology is the study of paranormal phenomena, such as telepathy, precognition, and psychokinesis, using scientific methods.\",\n",
        "    \"What is telepathy?\": \"Telepathy is the ability to transmit thoughts or feelings to another person without using any known human sensory channels or physical interaction.\",\n",
        "    \"What is precognition?\": \"Precognition is the ability to perceive or predict future events.\",\n",
        "    \"What is psychokinesis?\": \"Psychokinesis is the ability to influence a physical system without physical interaction.\",\n",
        "    \"Who was Joseph Banks Rhine?\": \"Joseph Banks Rhine was a key figure in parapsychology who pioneered experimental research into extrasensory perception (ESP) at Duke University.\",\n",
        "    \"Who was William James?\": \"William James was a philosopher and psychologist who contributed to early psychical research and was interested in paranormal phenomena.\",\n",
        "    \"Can near-death experiences be studied in parapsychology?\": \"Yes, near-death experiences are a topic of interest in parapsychology, exploring the reported sensations and perceptions during life-threatening situations.\"\n",
        "}\n",
        "\n",
        "\n",
        "questions = list(faq_data.keys())\n",
        "answers = list(faq_data.values())\n",
        "# Initialize the TfidfVectorizer\n",
        "vectorizer = TfidfVectorizer()\n",
        "# Fit and transform the questions\n",
        "vectorizer_questions = vectorizer.fit_transform(questions)\n",
        "\n",
        "def get_answer(query):\n",
        "    # Transform the query using the fitted vectorizer\n",
        "    query_vec = vectorizer.transform([query])\n",
        "    similarity = cosine_similarity(query_vec, vectorizer_questions).flatten()\n",
        "    index = similarity.argmax()\n",
        "    if similarity[index] > 0.2:  # Threshold for similarity\n",
        "        return answers[index]\n",
        "    else:\n",
        "        return \"I'm sorry, I don't understand your question. Can you please rephrase?\"\n",
        "\n",
        "def chatbot():\n",
        "    print(\"Hello! I'm a chatty. Ask me anything about Para psychology\")\n",
        "    print(\"Type 'exit' to end the conversation.\")\n",
        "\n",
        "    while True:\n",
        "        query = input(\"\\nYou: \")\n",
        "        if query.lower() == 'exit':\n",
        "            print(\"Chatbot: Goodbye!\")\n",
        "            break\n",
        "        answer = get_answer(query)\n",
        "        print(f\"Chatbot: {answer}\")\n",
        "\n",
        "if __name__ == \"__main__\":\n",
        "    chatbot()"
      ],
      "metadata": {
        "id": "kKwXbL6kGhGE",
        "colab": {
          "base_uri": "https://localhost:8080/"
        },
        "outputId": "b6b4c100-e41d-4c2b-fc89-9de0372326ef"
      },
      "execution_count": 17,
      "outputs": [
        {
          "output_type": "stream",
          "name": "stdout",
          "text": [
            "Hello! I'm a chatty. Ask me anything about Para psychology\n",
            "Type 'exit' to end the conversation.\n",
            "\n",
            "You: What is precognition?\n",
            "Chatbot: Precognition is the ability to perceive or predict future events.\n",
            "\n",
            "You: Who was William James?\n",
            "Chatbot: William James was a philosopher and psychologist who contributed to early psychical research and was interested in paranormal phenomena.\n",
            "\n",
            "You: exit\n",
            "Chatbot: Goodbye!\n"
          ]
        }
      ]
    },
    {
      "cell_type": "code",
      "source": [],
      "metadata": {
        "id": "IBo2-tNRGhIe"
      },
      "execution_count": null,
      "outputs": []
    },
    {
      "cell_type": "code",
      "source": [],
      "metadata": {
        "id": "-NlcyFl8GhLW"
      },
      "execution_count": null,
      "outputs": []
    },
    {
      "cell_type": "code",
      "source": [],
      "metadata": {
        "id": "zJcjm0SzGhN8"
      },
      "execution_count": null,
      "outputs": []
    },
    {
      "cell_type": "code",
      "source": [],
      "metadata": {
        "id": "ORiUf47UGhQc"
      },
      "execution_count": null,
      "outputs": []
    },
    {
      "cell_type": "code",
      "source": [],
      "metadata": {
        "id": "zWtDsidKGhS2"
      },
      "execution_count": null,
      "outputs": []
    },
    {
      "cell_type": "code",
      "source": [],
      "metadata": {
        "id": "gO5ht5NtGhVc"
      },
      "execution_count": null,
      "outputs": []
    },
    {
      "cell_type": "code",
      "source": [],
      "metadata": {
        "id": "C8xQsPiKGhYA"
      },
      "execution_count": null,
      "outputs": []
    },
    {
      "cell_type": "code",
      "source": [],
      "metadata": {
        "id": "Ohmlwu7jGhal"
      },
      "execution_count": null,
      "outputs": []
    },
    {
      "cell_type": "code",
      "source": [],
      "metadata": {
        "id": "39Q09TuNGhdU"
      },
      "execution_count": null,
      "outputs": []
    },
    {
      "cell_type": "code",
      "source": [],
      "metadata": {
        "id": "RdGt6cmoGhf9"
      },
      "execution_count": null,
      "outputs": []
    },
    {
      "cell_type": "code",
      "source": [],
      "metadata": {
        "id": "rXdJ0S87Ghih"
      },
      "execution_count": null,
      "outputs": []
    },
    {
      "cell_type": "code",
      "source": [],
      "metadata": {
        "id": "cZoounEZGhk5"
      },
      "execution_count": null,
      "outputs": []
    },
    {
      "cell_type": "code",
      "source": [],
      "metadata": {
        "id": "X7RiO2q4GhnM"
      },
      "execution_count": null,
      "outputs": []
    },
    {
      "cell_type": "code",
      "source": [],
      "metadata": {
        "id": "klhh_UsXGhp2"
      },
      "execution_count": null,
      "outputs": []
    },
    {
      "cell_type": "code",
      "source": [],
      "metadata": {
        "id": "CN6iQu4HGhtM"
      },
      "execution_count": null,
      "outputs": []
    }
  ]
}