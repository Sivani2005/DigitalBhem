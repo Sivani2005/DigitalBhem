{
  "nbformat": 4,
  "nbformat_minor": 0,
  "metadata": {
    "colab": {
      "provenance": [],
      "authorship_tag": "ABX9TyMUqoCMYWYSLNmdO7kyabfW",
      "include_colab_link": true
    },
    "kernelspec": {
      "name": "python3",
      "display_name": "Python 3"
    },
    "language_info": {
      "name": "python"
    }
  },
  "cells": [
    {
      "cell_type": "markdown",
      "metadata": {
        "id": "view-in-github",
        "colab_type": "text"
      },
      "source": [
        "<a href=\"https://colab.research.google.com/github/Sivani2005/DigitalBhem/blob/main/Budget_Tracker_.ipynb\" target=\"_parent\"><img src=\"https://colab.research.google.com/assets/colab-badge.svg\" alt=\"Open In Colab\"/></a>"
      ]
    },
    {
      "cell_type": "code",
      "execution_count": null,
      "metadata": {
        "colab": {
          "base_uri": "https://localhost:8080/"
        },
        "id": "JPVe-DzRtEXr",
        "outputId": "a966596e-fe8e-497d-b057-baeb6b8b3295"
      },
      "outputs": [
        {
          "output_type": "stream",
          "name": "stdout",
          "text": [
            "Requirement already satisfied: matplotlib in /usr/local/lib/python3.10/dist-packages (3.7.1)\n",
            "Requirement already satisfied: contourpy>=1.0.1 in /usr/local/lib/python3.10/dist-packages (from matplotlib) (1.2.1)\n",
            "Requirement already satisfied: cycler>=0.10 in /usr/local/lib/python3.10/dist-packages (from matplotlib) (0.12.1)\n",
            "Requirement already satisfied: fonttools>=4.22.0 in /usr/local/lib/python3.10/dist-packages (from matplotlib) (4.53.0)\n",
            "Requirement already satisfied: kiwisolver>=1.0.1 in /usr/local/lib/python3.10/dist-packages (from matplotlib) (1.4.5)\n",
            "Requirement already satisfied: numpy>=1.20 in /usr/local/lib/python3.10/dist-packages (from matplotlib) (1.25.2)\n",
            "Requirement already satisfied: packaging>=20.0 in /usr/local/lib/python3.10/dist-packages (from matplotlib) (24.1)\n",
            "Requirement already satisfied: pillow>=6.2.0 in /usr/local/lib/python3.10/dist-packages (from matplotlib) (9.4.0)\n",
            "Requirement already satisfied: pyparsing>=2.3.1 in /usr/local/lib/python3.10/dist-packages (from matplotlib) (3.1.2)\n",
            "Requirement already satisfied: python-dateutil>=2.7 in /usr/local/lib/python3.10/dist-packages (from matplotlib) (2.8.2)\n",
            "Requirement already satisfied: six>=1.5 in /usr/local/lib/python3.10/dist-packages (from python-dateutil>=2.7->matplotlib) (1.16.0)\n"
          ]
        }
      ],
      "source": [
        "!pip install matplotlib\n",
        "\n"
      ]
    },
    {
      "cell_type": "code",
      "source": [
        "!pip install plyer"
      ],
      "metadata": {
        "colab": {
          "base_uri": "https://localhost:8080/"
        },
        "id": "WwkRU618tMI3",
        "outputId": "df693b90-8c95-477f-c2df-c5b57f5c517f"
      },
      "execution_count": null,
      "outputs": [
        {
          "output_type": "stream",
          "name": "stdout",
          "text": [
            "Collecting plyer\n",
            "  Downloading plyer-2.1.0-py2.py3-none-any.whl (142 kB)\n",
            "\u001b[2K     \u001b[90m━━━━━━━━━━━━━━━━━━━━━━━━━━━━━━━━━━━━━━━━\u001b[0m \u001b[32m142.3/142.3 kB\u001b[0m \u001b[31m1.2 MB/s\u001b[0m eta \u001b[36m0:00:00\u001b[0m\n",
            "\u001b[?25hInstalling collected packages: plyer\n",
            "Successfully installed plyer-2.1.0\n"
          ]
        }
      ]
    },
    {
      "cell_type": "code",
      "source": [
        "import json\n",
        "import matplotlib.pyplot as plt\n",
        "from plyer import notification\n"
      ],
      "metadata": {
        "id": "n5JTKB2GtMTv"
      },
      "execution_count": null,
      "outputs": []
    },
    {
      "cell_type": "code",
      "source": [
        "# File to store financial data\n",
        "df = 'financial_data.json'"
      ],
      "metadata": {
        "id": "zfwpyxVMtMWN"
      },
      "execution_count": null,
      "outputs": []
    },
    {
      "cell_type": "code",
      "source": [
        "def load_data():\n",
        "    try:\n",
        "        with open(df, 'r') as file:\n",
        "            return json.load(file)\n",
        "    except FileNotFoundError:\n",
        "        return {'income': 0, 'expenses': []}\n",
        "\n",
        "def save_data(data):\n",
        "    with open(df, 'w') as file:\n",
        "        json.dump(data, file)\n",
        "\n",
        "def input_income():\n",
        "    income = float(input(\"Enter your income: \"))\n",
        "    data = load_data()\n",
        "    data['income'] = income\n",
        "    save_data(data)\n",
        "\n",
        "def input_expense():\n",
        "    description = input(\"Enter expense description: \")\n",
        "    amount = float(input(\"Enter expense amount: \"))\n",
        "    data = load_data()\n",
        "    data['expenses'].append({'description': description, 'amount': amount})\n",
        "    save_data(data)\n",
        "\n",
        "def calculate_remaining_budget():\n",
        "    data = load_data()\n",
        "    total_expenses = sum(expense['amount'] for expense in data['expenses'])\n",
        "    remaining_budget = data['income'] - total_expenses\n",
        "    print(f\"Remaining budget: ${remaining_budget:.2f}\")\n",
        "    return remaining_budget\n",
        "\n",
        "\n",
        "\n"
      ],
      "metadata": {
        "id": "JDzqU6vLtMZi"
      },
      "execution_count": null,
      "outputs": []
    },
    {
      "cell_type": "code",
      "source": [
        "def visualize_spending():\n",
        "    data = load_data()\n",
        "    descriptions = [expense['description'] for expense in data['expenses']]\n",
        "    amounts = [expense['amount'] for expense in data['expenses']]\n",
        "\n",
        "    plt.figure(figsize=(10, 5))\n",
        "    plt.bar(descriptions, amounts, color='blue')\n",
        "    plt.xlabel('Expense Description')\n",
        "    plt.ylabel('Amount')\n",
        "    plt.title('Spending Patterns')\n",
        "    plt.show()\n"
      ],
      "metadata": {
        "id": "UxBMr278w0q_"
      },
      "execution_count": null,
      "outputs": []
    },
    {
      "cell_type": "code",
      "source": [
        "def send_alert(limit):\n",
        "    \"\"\"Send alerts when expenses exceed a set limit.\"\"\"\n",
        "    remaining_budget = calculate_remaining_budget()\n",
        "    if remaining_budget < limit:\n",
        "        notification.notify(\n",
        "            title='Budget Alert',\n",
        "            message=f'Your expenses have exceeded the set limit! Remaining budget: ${remaining_budget:.2f}',\n",
        "            timeout=10\n",
        "        )\n",
        "\n",
        "def main():\n",
        "    \"\"\"Main function to run the program.\"\"\"\n",
        "    while True:\n",
        "        print(\"\\nMenu:\")\n",
        "        print(\"1. Input Income\")\n",
        "        print(\"2. Input Expense\")\n",
        "        print(\"3. Calculate Remaining Budget\")\n",
        "        print(\"4. Visualize Spending\")\n",
        "        print(\"5. Set Expense Alert Limit\")\n",
        "        print(\"6. Exit\")\n",
        "\n",
        "        choice = input(\"Enter your choice: \")\n",
        "\n",
        "        if choice == '1':\n",
        "            input_income()\n",
        "        elif choice == '2':\n",
        "            input_expense()\n",
        "        elif choice == '3':\n",
        "            calculate_remaining_budget()\n",
        "        elif choice == '4':\n",
        "            visualize_spending()\n",
        "        elif choice == '5':\n",
        "            limit = float(input(\"Enter the expense alert limit: \"))\n",
        "            send_alert(limit)\n",
        "        elif choice == '6':\n",
        "            break\n",
        "        else:\n",
        "            print(\"Invalid choice! Please try again.\")\n",
        "\n",
        "if __name__ == \"__main__\":\n",
        "    main()"
      ],
      "metadata": {
        "colab": {
          "base_uri": "https://localhost:8080/",
          "height": 1000
        },
        "id": "yh9C1jK01xQP",
        "outputId": "db77d715-1fc0-49e5-a717-b05700105fd3"
      },
      "execution_count": null,
      "outputs": [
        {
          "name": "stdout",
          "output_type": "stream",
          "text": [
            "\n",
            "Menu:\n",
            "1. Input Income\n",
            "2. Input Expense\n",
            "3. Calculate Remaining Budget\n",
            "4. Visualize Spending\n",
            "5. Set Expense Alert Limit\n",
            "6. Exit\n",
            "Enter your choice: 1\n",
            "Enter your income: 50000\n",
            "\n",
            "Menu:\n",
            "1. Input Income\n",
            "2. Input Expense\n",
            "3. Calculate Remaining Budget\n",
            "4. Visualize Spending\n",
            "5. Set Expense Alert Limit\n",
            "6. Exit\n",
            "Enter your choice: 2\n",
            "Enter expense description: Food\n",
            "Enter expense amount: 3500\n",
            "\n",
            "Menu:\n",
            "1. Input Income\n",
            "2. Input Expense\n",
            "3. Calculate Remaining Budget\n",
            "4. Visualize Spending\n",
            "5. Set Expense Alert Limit\n",
            "6. Exit\n",
            "Enter your choice: 3\n",
            "Remaining budget: $46500.00\n",
            "\n",
            "Menu:\n",
            "1. Input Income\n",
            "2. Input Expense\n",
            "3. Calculate Remaining Budget\n",
            "4. Visualize Spending\n",
            "5. Set Expense Alert Limit\n",
            "6. Exit\n",
            "Enter your choice: 4\n"
          ]
        },
        {
          "output_type": "display_data",
          "data": {
            "text/plain": [
              "<Figure size 1000x500 with 1 Axes>"
            ],
            "image/png": "[encoded data removed]"
          },
          "metadata": {}
        },
        {
          "name": "stdout",
          "output_type": "stream",
          "text": [
            "\n",
            "Menu:\n",
            "1. Input Income\n",
            "2. Input Expense\n",
            "3. Calculate Remaining Budget\n",
            "4. Visualize Spending\n",
            "5. Set Expense Alert Limit\n",
            "6. Exit\n",
            "Enter your choice: 5\n",
            "Enter the expense alert limit: 45000\n",
            "Remaining budget: $46500.00\n",
            "\n",
            "Menu:\n",
            "1. Input Income\n",
            "2. Input Expense\n",
            "3. Calculate Remaining Budget\n",
            "4. Visualize Spending\n",
            "5. Set Expense Alert Limit\n",
            "6. Exit\n",
            "Enter your choice: 6\n"
          ]
        }
      ]
    },
    {
      "cell_type": "code",
      "source": [],
      "metadata": {
        "id": "W9MzVEtW1xSo"
      },
      "execution_count": null,
      "outputs": []
    },
    {
      "cell_type": "code",
      "source": [],
      "metadata": {
        "id": "LjKV1Szx1xVG"
      },
      "execution_count": null,
      "outputs": []
    },
    {
      "cell_type": "code",
      "source": [],
      "metadata": {
        "id": "tbBWjm0Y1xXn"
      },
      "execution_count": null,
      "outputs": []
    },
    {
      "cell_type": "code",
      "source": [],
      "metadata": {
        "id": "7uPJjD3c1xZn"
      },
      "execution_count": null,
      "outputs": []
    },
    {
      "cell_type": "code",
      "source": [],
      "metadata": {
        "id": "ZoI4lcyc1xb9"
      },
      "execution_count": null,
      "outputs": []
    }
  ]
}